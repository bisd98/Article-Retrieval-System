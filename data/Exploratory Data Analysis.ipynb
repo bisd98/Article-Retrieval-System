{
 "cells": [
  {
   "cell_type": "markdown",
   "id": "219293c6-eaee-4654-ae12-cf20a8b54733",
   "metadata": {},
   "source": [
    "# EDA of 1300+ Towards DataScience Medium Articles Dataset"
   ]
  },
  {
   "cell_type": "markdown",
   "id": "fdb08458-affc-458a-ba18-2961fb978db1",
   "metadata": {},
   "source": [
    "### Overview"
   ]
  },
  {
   "cell_type": "markdown",
   "id": "902b569c-d51a-4437-99d9-a4e68675f308",
   "metadata": {},
   "source": [
    "This dataset is a comprehensive collection of blog posts sourced from Medium, focusing specifically on articles published under the \"Towards Data Science\" publication. It consists of two primary columns:\n",
    "\n",
    "- **Title:** Contains the title of each blog post, providing a concise summary of the content and facilitating tasks such as title-based classification, keyword extraction, and trend analysis.\n",
    "  \n",
    "- **Text:** Contains the full text content of each blog post, offering detailed information and insights on various topics in Data Science. This column serves as a valuable resource for Natural Language Processing (NLP) tasks including sentiment analysis, topic modeling, text classification, information extraction, text generation, and recommendation systems.\n"
   ]
  },
  {
   "cell_type": "markdown",
   "id": "fab8a0fa-af95-4787-bc2e-3896f36136a8",
   "metadata": {},
   "source": [
    "### Imports"
   ]
  },
  {
   "cell_type": "code",
   "execution_count": 1,
   "id": "d486d26d-d025-4038-92fe-97193c2a5cbf",
   "metadata": {},
   "outputs": [],
   "source": [
    "import pandas as pd\n",
    "import nltk\n",
    "from nltk.tokenize import word_tokenize\n",
    "import matplotlib.pyplot as plt\n",
    "from langdetect import detect"
   ]
  },
  {
   "cell_type": "markdown",
   "id": "b65bc159-7a96-417c-ad88-2ea5e95e9b1d",
   "metadata": {},
   "source": [
    "### Loading & analyzing the data sctructure"
   ]
  },
  {
   "cell_type": "code",
   "execution_count": 2,
   "id": "913d343d-5c52-427e-8000-8c034c8eec36",
   "metadata": {},
   "outputs": [],
   "source": [
    "data = pd.read_csv('ds-medium-articles.csv')"
   ]
  },
  {
   "cell_type": "code",
   "execution_count": 3,
   "id": "f01587cf-a3b5-4bc6-b5c1-b266c9dfecab",
   "metadata": {},
   "outputs": [
    {
     "name": "stdout",
     "output_type": "stream",
     "text": [
      "<class 'pandas.core.frame.DataFrame'>\n",
      "RangeIndex: 1391 entries, 0 to 1390\n",
      "Data columns (total 2 columns):\n",
      " #   Column  Non-Null Count  Dtype \n",
      "---  ------  --------------  ----- \n",
      " 0   Title   1391 non-null   object\n",
      " 1   Text    1391 non-null   object\n",
      "dtypes: object(2)\n",
      "memory usage: 21.9+ KB\n"
     ]
    }
   ],
   "source": [
    "data.info()"
   ]
  },
  {
   "cell_type": "code",
   "execution_count": 4,
   "id": "4acd221d-2d3a-432c-840e-123bcf15095f",
   "metadata": {
    "scrolled": true
   },
   "outputs": [
    {
     "data": {
      "text/html": [
       "<div>\n",
       "<style scoped>\n",
       "    .dataframe tbody tr th:only-of-type {\n",
       "        vertical-align: middle;\n",
       "    }\n",
       "\n",
       "    .dataframe tbody tr th {\n",
       "        vertical-align: top;\n",
       "    }\n",
       "\n",
       "    .dataframe thead th {\n",
       "        text-align: right;\n",
       "    }\n",
       "</style>\n",
       "<table border=\"1\" class=\"dataframe\">\n",
       "  <thead>\n",
       "    <tr style=\"text-align: right;\">\n",
       "      <th></th>\n",
       "      <th>count</th>\n",
       "      <th>unique</th>\n",
       "      <th>top</th>\n",
       "      <th>freq</th>\n",
       "    </tr>\n",
       "  </thead>\n",
       "  <tbody>\n",
       "    <tr>\n",
       "      <th>Title</th>\n",
       "      <td>1391</td>\n",
       "      <td>1390</td>\n",
       "      <td>Autonomous Agents And Multi-Agent Systems 101:...</td>\n",
       "      <td>2</td>\n",
       "    </tr>\n",
       "    <tr>\n",
       "      <th>Text</th>\n",
       "      <td>1391</td>\n",
       "      <td>1391</td>\n",
       "      <td>1. Introduction of Word2vec\\n\\nWord2vec is one...</td>\n",
       "      <td>1</td>\n",
       "    </tr>\n",
       "  </tbody>\n",
       "</table>\n",
       "</div>"
      ],
      "text/plain": [
       "      count unique                                                top freq\n",
       "Title  1391   1390  Autonomous Agents And Multi-Agent Systems 101:...    2\n",
       "Text   1391   1391  1. Introduction of Word2vec\\n\\nWord2vec is one...    1"
      ]
     },
     "execution_count": 4,
     "metadata": {},
     "output_type": "execute_result"
    }
   ],
   "source": [
    "data.describe().T"
   ]
  },
  {
   "cell_type": "markdown",
   "id": "733ae3b9-95a8-448a-baca-58d308e44cad",
   "metadata": {},
   "source": [
    "Title column contains a duplicate, unlike text column. These rows should be located and inspected."
   ]
  },
  {
   "cell_type": "code",
   "execution_count": 5,
   "id": "50556fe9-99a2-4d5c-ba4c-7d3fc2b5639a",
   "metadata": {
    "scrolled": true
   },
   "outputs": [
    {
     "data": {
      "text/html": [
       "<div>\n",
       "<style scoped>\n",
       "    .dataframe tbody tr th:only-of-type {\n",
       "        vertical-align: middle;\n",
       "    }\n",
       "\n",
       "    .dataframe tbody tr th {\n",
       "        vertical-align: top;\n",
       "    }\n",
       "\n",
       "    .dataframe thead th {\n",
       "        text-align: right;\n",
       "    }\n",
       "</style>\n",
       "<table border=\"1\" class=\"dataframe\">\n",
       "  <thead>\n",
       "    <tr style=\"text-align: right;\">\n",
       "      <th></th>\n",
       "      <th>Title</th>\n",
       "      <th>Text</th>\n",
       "    </tr>\n",
       "  </thead>\n",
       "  <tbody>\n",
       "    <tr>\n",
       "      <th>0</th>\n",
       "      <td>A Beginner’s Guide to Word Embedding with Gens...</td>\n",
       "      <td>1. Introduction of Word2vec\\n\\nWord2vec is one...</td>\n",
       "    </tr>\n",
       "    <tr>\n",
       "      <th>1</th>\n",
       "      <td>Hands-on Graph Neural Networks with PyTorch &amp; ...</td>\n",
       "      <td>In my last article, I introduced the concept o...</td>\n",
       "    </tr>\n",
       "    <tr>\n",
       "      <th>2</th>\n",
       "      <td>How to Use ggplot2 in Python</td>\n",
       "      <td>Introduction\\n\\nThanks to its strict implement...</td>\n",
       "    </tr>\n",
       "    <tr>\n",
       "      <th>3</th>\n",
       "      <td>Databricks: How to Save Data Frames as CSV Fil...</td>\n",
       "      <td>Photo credit to Mika Baumeister from Unsplash\\...</td>\n",
       "    </tr>\n",
       "    <tr>\n",
       "      <th>4</th>\n",
       "      <td>A Step-by-Step Implementation of Gradient Desc...</td>\n",
       "      <td>A Step-by-Step Implementation of Gradient Desc...</td>\n",
       "    </tr>\n",
       "  </tbody>\n",
       "</table>\n",
       "</div>"
      ],
      "text/plain": [
       "                                               Title  \\\n",
       "0  A Beginner’s Guide to Word Embedding with Gens...   \n",
       "1  Hands-on Graph Neural Networks with PyTorch & ...   \n",
       "2                       How to Use ggplot2 in Python   \n",
       "3  Databricks: How to Save Data Frames as CSV Fil...   \n",
       "4  A Step-by-Step Implementation of Gradient Desc...   \n",
       "\n",
       "                                                Text  \n",
       "0  1. Introduction of Word2vec\\n\\nWord2vec is one...  \n",
       "1  In my last article, I introduced the concept o...  \n",
       "2  Introduction\\n\\nThanks to its strict implement...  \n",
       "3  Photo credit to Mika Baumeister from Unsplash\\...  \n",
       "4  A Step-by-Step Implementation of Gradient Desc...  "
      ]
     },
     "execution_count": 5,
     "metadata": {},
     "output_type": "execute_result"
    }
   ],
   "source": [
    "data.head()"
   ]
  },
  {
   "cell_type": "markdown",
   "id": "d22d1a72-39e9-432c-907d-ab2211b40315",
   "metadata": {},
   "source": [
    "#### Checking language consistency"
   ]
  },
  {
   "cell_type": "code",
   "execution_count": 6,
   "id": "9f7f3acb-1914-44fc-8372-c4614957b8b1",
   "metadata": {
    "scrolled": true
   },
   "outputs": [
    {
     "data": {
      "text/plain": [
       "Text\n",
       "en    1391\n",
       "Name: count, dtype: int64"
      ]
     },
     "execution_count": 6,
     "metadata": {},
     "output_type": "execute_result"
    }
   ],
   "source": [
    "data['Text'].apply(detect).value_counts()"
   ]
  },
  {
   "cell_type": "markdown",
   "id": "d61bed75",
   "metadata": {},
   "source": [
    "#### Checking article content"
   ]
  },
  {
   "cell_type": "code",
   "execution_count": 7,
   "id": "c508cfc1",
   "metadata": {
    "scrolled": false
   },
   "outputs": [
    {
     "name": "stdout",
     "output_type": "stream",
     "text": [
      "1. Introduction of Word2vec\n",
      "\n",
      "Word2vec is one of the most popular technique to learn word embeddings using a two-layer neural network. Its input is a text corpus and its output is a set of vectors. Word embedding via word2vec can make natural language computer-readable, then further implementation of mathematical operations on words can be used to detect their similarities. A well-trained set of word vectors will place similar words close to each other in that space. For instance, the words women, men, and human might cluster in one corner, while yellow, red and blue cluster together in another.\n",
      "\n",
      "There are two main training algorithms for word2vec, one is the continuous bag of words(CBOW), another is called skip-gram. The major difference between these two methods is that CBOW is using context to predict a target word while skip-gram is using a word to predict a target context. Generally, the skip-gram method can have a better performance compared with CBOW method, for it can capture two semantics for a single word. For instance, it will have two vector representations for Apple, one for the company and another for the fruit. For more details about the word2vec algorithm, please check here.\n",
      "\n",
      "2. Gensim Python Library Introduction\n",
      "\n",
      "Gensim is an open source python library for natural language processing and it was developed and is maintained by the Czech natural language processing researcher Radim Řehůřek. Gensim library will enable us to develop word embeddings by training our own word2vec models on a custom corpus either with CBOW of skip-grams algorithms.\n",
      "\n",
      "At first, we need to install the genism package. Gensim runs on Linux, Windows and Mac OS X, and should run on any other platform that supports Python 2.7+ and NumPy. Gensim depends on the following software:\n",
      "\n",
      "Python >= 2.7 (tested with versions 2.7, 3.5 and 3.6)\n",
      "\n",
      ">= 2.7 (tested with versions 2.7, 3.5 and 3.6) NumPy >= 1.11.3\n",
      "\n",
      ">= 1.11.3 SciPy >= 0.18.1\n",
      "\n",
      ">= 0.18.1 Six >= 1.5.0\n",
      "\n",
      ">= 1.5.0 smart_open >= 1.2.1\n",
      "\n",
      "There a\n"
     ]
    }
   ],
   "source": [
    "print(data.iloc[0].Text[:2000])"
   ]
  },
  {
   "cell_type": "markdown",
   "id": "e9edb4c7-589d-4ee6-b67d-7528d77a7913",
   "metadata": {},
   "source": [
    "### Title"
   ]
  },
  {
   "cell_type": "markdown",
   "id": "f8479817-5658-46df-bf72-2daacc38309c",
   "metadata": {},
   "source": [
    "#### Length of titles (tokens)"
   ]
  },
  {
   "cell_type": "code",
   "execution_count": 8,
   "id": "b958f98c-19b8-4da9-9106-8c0151f74b89",
   "metadata": {},
   "outputs": [
    {
     "data": {
      "text/html": [
       "<div>\n",
       "<style scoped>\n",
       "    .dataframe tbody tr th:only-of-type {\n",
       "        vertical-align: middle;\n",
       "    }\n",
       "\n",
       "    .dataframe tbody tr th {\n",
       "        vertical-align: top;\n",
       "    }\n",
       "\n",
       "    .dataframe thead th {\n",
       "        text-align: right;\n",
       "    }\n",
       "</style>\n",
       "<table border=\"1\" class=\"dataframe\">\n",
       "  <thead>\n",
       "    <tr style=\"text-align: right;\">\n",
       "      <th></th>\n",
       "      <th>Title</th>\n",
       "      <th>Length</th>\n",
       "    </tr>\n",
       "  </thead>\n",
       "  <tbody>\n",
       "    <tr>\n",
       "      <th>1357</th>\n",
       "      <td>Stock Market Prediction for the Australian Sec...</td>\n",
       "      <td>27</td>\n",
       "    </tr>\n",
       "    <tr>\n",
       "      <th>443</th>\n",
       "      <td>Using Naive Bayes to dig into “81% of ‘suspect...</td>\n",
       "      <td>24</td>\n",
       "    </tr>\n",
       "    <tr>\n",
       "      <th>592</th>\n",
       "      <td>Year two of living my dream in Silicon Valley,...</td>\n",
       "      <td>22</td>\n",
       "    </tr>\n",
       "    <tr>\n",
       "      <th>82</th>\n",
       "      <td>What Is Neuralink: A Look At What It Is, What ...</td>\n",
       "      <td>22</td>\n",
       "    </tr>\n",
       "    <tr>\n",
       "      <th>100</th>\n",
       "      <td>How 90% of Drivers Can be “Above Average” or W...</td>\n",
       "      <td>21</td>\n",
       "    </tr>\n",
       "    <tr>\n",
       "      <th>...</th>\n",
       "      <td>...</td>\n",
       "      <td>...</td>\n",
       "    </tr>\n",
       "    <tr>\n",
       "      <th>1258</th>\n",
       "      <td>Image-to-Image Translation</td>\n",
       "      <td>2</td>\n",
       "    </tr>\n",
       "    <tr>\n",
       "      <th>141</th>\n",
       "      <td>Subspace clustering</td>\n",
       "      <td>2</td>\n",
       "    </tr>\n",
       "    <tr>\n",
       "      <th>1015</th>\n",
       "      <td>Serverless ML</td>\n",
       "      <td>2</td>\n",
       "    </tr>\n",
       "    <tr>\n",
       "      <th>34</th>\n",
       "      <td>Multi-Class Imbalance</td>\n",
       "      <td>2</td>\n",
       "    </tr>\n",
       "    <tr>\n",
       "      <th>833</th>\n",
       "      <td>LOESS</td>\n",
       "      <td>1</td>\n",
       "    </tr>\n",
       "  </tbody>\n",
       "</table>\n",
       "<p>1391 rows × 2 columns</p>\n",
       "</div>"
      ],
      "text/plain": [
       "                                                  Title  Length\n",
       "1357  Stock Market Prediction for the Australian Sec...      27\n",
       "443   Using Naive Bayes to dig into “81% of ‘suspect...      24\n",
       "592   Year two of living my dream in Silicon Valley,...      22\n",
       "82    What Is Neuralink: A Look At What It Is, What ...      22\n",
       "100   How 90% of Drivers Can be “Above Average” or W...      21\n",
       "...                                                 ...     ...\n",
       "1258                         Image-to-Image Translation       2\n",
       "141                                 Subspace clustering       2\n",
       "1015                                      Serverless ML       2\n",
       "34                                Multi-Class Imbalance       2\n",
       "833                                               LOESS       1\n",
       "\n",
       "[1391 rows x 2 columns]"
      ]
     },
     "execution_count": 8,
     "metadata": {},
     "output_type": "execute_result"
    }
   ],
   "source": [
    "df_title_len = pd.concat([data['Title'], data['Title'].apply(lambda x: len(word_tokenize(x))).rename('Length')], axis=1)\n",
    "df_title_len.sort_values(by='Length', ascending=False)"
   ]
  },
  {
   "cell_type": "markdown",
   "id": "0481eaff-a909-4e85-9dad-dd1ecf600d6e",
   "metadata": {},
   "source": [
    "#### Visualization of title length"
   ]
  },
  {
   "cell_type": "code",
   "execution_count": 9,
   "id": "ac3a52b2-942c-4c04-869c-94850b006fa0",
   "metadata": {},
   "outputs": [
    {
     "data": {
      "image/png": "[encoded data removed]",
      "text/plain": [
       "<Figure size 1200x300 with 1 Axes>"
      ]
     },
     "metadata": {},
     "output_type": "display_data"
    }
   ],
   "source": [
    "plt.figure(figsize=(12, 3))\n",
    "plt.bar(range(len(df_title_len['Length'])), df_title_len['Length'].sort_values(ascending=False))\n",
    "plt.ylabel('Title length (tokens)')\n",
    "plt.xticks([])\n",
    "plt.show()"
   ]
  },
  {
   "cell_type": "markdown",
   "id": "7854fbb1-eba6-4886-951f-0698f76f3188",
   "metadata": {},
   "source": [
    "#### Duplicated titles"
   ]
  },
  {
   "cell_type": "code",
   "execution_count": 10,
   "id": "7ccb3521-87e6-453c-8da2-fe2a0df92192",
   "metadata": {
    "scrolled": true
   },
   "outputs": [
    {
     "data": {
      "text/plain": [
       "328    Autonomous Agents And Multi-Agent Systems 101:...\n",
       "616    Autonomous Agents And Multi-Agent Systems 101:...\n",
       "Name: Title, dtype: object"
      ]
     },
     "execution_count": 10,
     "metadata": {},
     "output_type": "execute_result"
    }
   ],
   "source": [
    "df_title_len['Title'][df_title_len['Title'].duplicated(keep=False)]"
   ]
  },
  {
   "cell_type": "markdown",
   "id": "05b9a111-a31c-4577-8ab6-8c8c2fcdc977",
   "metadata": {},
   "source": [
    "### Text"
   ]
  },
  {
   "cell_type": "markdown",
   "id": "27f69fb8-e285-43fe-90e4-5a9483b71dc6",
   "metadata": {},
   "source": [
    "#### Length of texts (tokens)"
   ]
  },
  {
   "cell_type": "code",
   "execution_count": 11,
   "id": "db62d39f-e87b-4d60-82f7-c7c35d197c02",
   "metadata": {},
   "outputs": [
    {
     "data": {
      "text/html": [
       "<div>\n",
       "<style scoped>\n",
       "    .dataframe tbody tr th:only-of-type {\n",
       "        vertical-align: middle;\n",
       "    }\n",
       "\n",
       "    .dataframe tbody tr th {\n",
       "        vertical-align: top;\n",
       "    }\n",
       "\n",
       "    .dataframe thead th {\n",
       "        text-align: right;\n",
       "    }\n",
       "</style>\n",
       "<table border=\"1\" class=\"dataframe\">\n",
       "  <thead>\n",
       "    <tr style=\"text-align: right;\">\n",
       "      <th></th>\n",
       "      <th>Text</th>\n",
       "      <th>Length</th>\n",
       "    </tr>\n",
       "  </thead>\n",
       "  <tbody>\n",
       "    <tr>\n",
       "      <th>65</th>\n",
       "      <td>R and Python are the bread and butter of today...</td>\n",
       "      <td>9201</td>\n",
       "    </tr>\n",
       "    <tr>\n",
       "      <th>233</th>\n",
       "      <td>Models as Serverless Functions\\n\\nI recently p...</td>\n",
       "      <td>8090</td>\n",
       "    </tr>\n",
       "    <tr>\n",
       "      <th>1146</th>\n",
       "      <td>Comparing common analysis strategies for repea...</td>\n",
       "      <td>7455</td>\n",
       "    </tr>\n",
       "    <tr>\n",
       "      <th>866</th>\n",
       "      <td>Intelligence can be defined as a predominantly...</td>\n",
       "      <td>6587</td>\n",
       "    </tr>\n",
       "    <tr>\n",
       "      <th>750</th>\n",
       "      <td>How are the predicted food trends of 2019 hold...</td>\n",
       "      <td>6404</td>\n",
       "    </tr>\n",
       "    <tr>\n",
       "      <th>...</th>\n",
       "      <td>...</td>\n",
       "      <td>...</td>\n",
       "    </tr>\n",
       "    <tr>\n",
       "      <th>678</th>\n",
       "      <td>Review: NIN — Network In Network (Image Classi...</td>\n",
       "      <td>84</td>\n",
       "    </tr>\n",
       "    <tr>\n",
       "      <th>18</th>\n",
       "      <td>20 must-know Data Science Interview Questions\\...</td>\n",
       "      <td>82</td>\n",
       "    </tr>\n",
       "    <tr>\n",
       "      <th>69</th>\n",
       "      <td>Review: DeepPose — Cascade of CNN (Human Pose ...</td>\n",
       "      <td>78</td>\n",
       "    </tr>\n",
       "    <tr>\n",
       "      <th>286</th>\n",
       "      <td>Notice that we normalize the validation set wi...</td>\n",
       "      <td>61</td>\n",
       "    </tr>\n",
       "    <tr>\n",
       "      <th>858</th>\n",
       "      <td>By Adam Reevesman — 9 min read\\n\\nThere are fe...</td>\n",
       "      <td>53</td>\n",
       "    </tr>\n",
       "  </tbody>\n",
       "</table>\n",
       "<p>1391 rows × 2 columns</p>\n",
       "</div>"
      ],
      "text/plain": [
       "                                                   Text  Length\n",
       "65    R and Python are the bread and butter of today...    9201\n",
       "233   Models as Serverless Functions\\n\\nI recently p...    8090\n",
       "1146  Comparing common analysis strategies for repea...    7455\n",
       "866   Intelligence can be defined as a predominantly...    6587\n",
       "750   How are the predicted food trends of 2019 hold...    6404\n",
       "...                                                 ...     ...\n",
       "678   Review: NIN — Network In Network (Image Classi...      84\n",
       "18    20 must-know Data Science Interview Questions\\...      82\n",
       "69    Review: DeepPose — Cascade of CNN (Human Pose ...      78\n",
       "286   Notice that we normalize the validation set wi...      61\n",
       "858   By Adam Reevesman — 9 min read\\n\\nThere are fe...      53\n",
       "\n",
       "[1391 rows x 2 columns]"
      ]
     },
     "execution_count": 11,
     "metadata": {},
     "output_type": "execute_result"
    }
   ],
   "source": [
    "df_text_len = pd.concat([data['Text'], data['Text'].apply(lambda x: len(word_tokenize(x))).rename('Length')], axis=1)\n",
    "df_text_len.sort_values(by='Length', ascending=False)"
   ]
  },
  {
   "cell_type": "markdown",
   "id": "591ff873-bfbf-43c1-8329-0db2e249c13f",
   "metadata": {},
   "source": [
    "#### Visualization of text length"
   ]
  },
  {
   "cell_type": "code",
   "execution_count": 12,
   "id": "1780f962-d828-4269-beb9-ccacfd0ea7c9",
   "metadata": {},
   "outputs": [
    {
     "data": {
      "image/png": "[encoded data removed]",
      "text/plain": [
       "<Figure size 1200x300 with 1 Axes>"
      ]
     },
     "metadata": {},
     "output_type": "display_data"
    }
   ],
   "source": [
    "plt.figure(figsize=(12, 3))\n",
    "plt.bar(range(len(df_text_len['Length'])), df_text_len['Length'].sort_values(ascending=False))\n",
    "plt.ylabel('Text length (tokens)')\n",
    "plt.xticks([])\n",
    "plt.show()"
   ]
  },
  {
   "cell_type": "markdown",
   "id": "10c7b1e6-dcf2-43dc-9045-9e84347d460e",
   "metadata": {},
   "source": [
    "#### Checking the content of text with duplicate titles"
   ]
  },
  {
   "cell_type": "code",
   "execution_count": 13,
   "id": "db2535b8-77e1-40bb-b61b-7ed725e8ac5d",
   "metadata": {
    "scrolled": true
   },
   "outputs": [
    {
     "data": {
      "text/html": [
       "<div>\n",
       "<style scoped>\n",
       "    .dataframe tbody tr th:only-of-type {\n",
       "        vertical-align: middle;\n",
       "    }\n",
       "\n",
       "    .dataframe tbody tr th {\n",
       "        vertical-align: top;\n",
       "    }\n",
       "\n",
       "    .dataframe thead th {\n",
       "        text-align: right;\n",
       "    }\n",
       "</style>\n",
       "<table border=\"1\" class=\"dataframe\">\n",
       "  <thead>\n",
       "    <tr style=\"text-align: right;\">\n",
       "      <th></th>\n",
       "      <th>Text</th>\n",
       "      <th>Length</th>\n",
       "    </tr>\n",
       "  </thead>\n",
       "  <tbody>\n",
       "    <tr>\n",
       "      <th>328</th>\n",
       "      <td>Autonomous Agents And Multi-Agent Systems 101:...</td>\n",
       "      <td>1772</td>\n",
       "    </tr>\n",
       "    <tr>\n",
       "      <th>616</th>\n",
       "      <td>Autonomous Agents And Multi-Agent Systems 101:...</td>\n",
       "      <td>1774</td>\n",
       "    </tr>\n",
       "  </tbody>\n",
       "</table>\n",
       "</div>"
      ],
      "text/plain": [
       "                                                  Text  Length\n",
       "328  Autonomous Agents And Multi-Agent Systems 101:...    1772\n",
       "616  Autonomous Agents And Multi-Agent Systems 101:...    1774"
      ]
     },
     "execution_count": 13,
     "metadata": {},
     "output_type": "execute_result"
    }
   ],
   "source": [
    "df_text_len.iloc[[328, 616], :]"
   ]
  },
  {
   "cell_type": "code",
   "execution_count": 14,
   "id": "c42b3d82-01e8-4e9a-aedc-2e2f454106e5",
   "metadata": {
    "scrolled": true
   },
   "outputs": [
    {
     "name": "stdout",
     "output_type": "stream",
     "text": [
      "Edit-distance between duplicates: 17\n"
     ]
    }
   ],
   "source": [
    "edit_dist = nltk.edit_distance(df_text_len.iloc[328].Text, df_text_len.iloc[616].Text)\n",
    "print(f'Edit-distance between duplicates: {edit_dist}')"
   ]
  },
  {
   "cell_type": "code",
   "execution_count": 15,
   "id": "96ca6f9c-ec1c-41c2-b491-79a9d8e54729",
   "metadata": {},
   "outputs": [
    {
     "data": {
      "text/plain": [
       "{'27',\n",
       " '9',\n",
       " 'May',\n",
       " 'Nov',\n",
       " 'behaviors',\n",
       " 'behaviours',\n",
       " 'favorable',\n",
       " 'favourable',\n",
       " 'fulfil',\n",
       " 'fulfill',\n",
       " 'optimality',\n",
       " 're-usability',\n",
       " 'reusability',\n",
       " '😶',\n",
       " '🤖'}"
      ]
     },
     "execution_count": 15,
     "metadata": {},
     "output_type": "execute_result"
    }
   ],
   "source": [
    "set_1 = set(word_tokenize(df_text_len.iloc[328].Text))\n",
    "set_2 = set(word_tokenize(df_text_len.iloc[616].Text))\n",
    "set_1.symmetric_difference(set_2)"
   ]
  },
  {
   "cell_type": "code",
   "execution_count": 16,
   "id": "35ec1940-be31-4535-b112-89e56b995be5",
   "metadata": {},
   "outputs": [
    {
     "data": {
      "text/plain": [
       "'Autonomous Agents And Multi-Agent Systems 101: Agents And Deception\\n\\nThis article provides a brief introduction to the area of autonomous agents and multi-system agents. Furthermore, a perspective of deception mechanisms used by agents is presented. Rafael Belchior · Follow Published in Towards Data Science · 7 min read · Nov 9, 2019 -- L'"
      ]
     },
     "execution_count": 16,
     "metadata": {},
     "output_type": "execute_result"
    }
   ],
   "source": [
    "df_text_len.iloc[328].Text[:340]"
   ]
  },
  {
   "cell_type": "code",
   "execution_count": 17,
   "id": "9ce3d96c-0a37-4c3a-895d-e01551dbe868",
   "metadata": {
    "scrolled": true
   },
   "outputs": [
    {
     "data": {
      "text/plain": [
       "'Autonomous Agents And Multi-Agent Systems 101: Agents And Deception\\n\\nThis article provides a brief introduction to the area of autonomous agents and multi-system agents. Furthermore, a perspective of deception mechanisms used by agents is presented. Rafael Belchior · Follow Published in Towards Data Science · 7 min read · May 27, 2019 -- '"
      ]
     },
     "execution_count": 17,
     "metadata": {},
     "output_type": "execute_result"
    }
   ],
   "source": [
    "df_text_len.iloc[616].Text[:340]"
   ]
  },
  {
   "cell_type": "markdown",
   "id": "698facb0-9afd-491b-9e04-8c3387fcb1c4",
   "metadata": {},
   "source": [
    "##### Conclusions"
   ]
  },
  {
   "cell_type": "markdown",
   "id": "a6c4c8cc-4060-44f8-9297-23b8a1db0a9d",
   "metadata": {
    "scrolled": true
   },
   "source": [
    "The main difference between these texts is the date of publication. The rest of the differences indicate minor editing that does not affect the context of the text.\n",
    "\n",
    "Therefore, I will keep the updated text and remove the previous version of the article from the dat.a"
   ]
  },
  {
   "cell_type": "code",
   "execution_count": 18,
   "id": "4b348f4a-ceb4-44ee-b574-057a8313776e",
   "metadata": {},
   "outputs": [],
   "source": [
    "data.drop(616, inplace=True)"
   ]
  },
  {
   "cell_type": "markdown",
   "id": "df690521",
   "metadata": {},
   "source": [
    "### Update data file"
   ]
  },
  {
   "cell_type": "code",
   "execution_count": 19,
   "id": "69fa9f18",
   "metadata": {},
   "outputs": [],
   "source": [
    "data.to_csv('ds-medium-articles.csv')"
   ]
  },
  {
   "cell_type": "markdown",
   "id": "2ed01dc7-3448-486c-bef3-e626569b8e6a",
   "metadata": {},
   "source": [
    "### Conclusions of EDA"
   ]
  },
  {
   "cell_type": "markdown",
   "id": "d9fd15cf-cb30-45e9-9901-a1aa9a5f02a1",
   "metadata": {},
   "source": [
    "I have came up with few ideas and conclusions during the analysis:\n",
    "\n",
    "- Titles let me spot some duplicate but for now I don't see the need to use them in retrieval system.\n",
    "- Number of text tokens are up to  9000, so there will be need to develop efficient and effective chunking method.\n",
    "- Every article is written in English, what simplifies work with text data and excludes the use of multilingual embeddings.\n",
    "- Some of the articles contains python code, so there may be need to use tokenizer and transformer adapted to work with code."
   ]
  }
 ],
 "metadata": {
  "kernelspec": {
   "display_name": "Python 3 (ipykernel)",
   "language": "python",
   "name": "python3"
  },
  "language_info": {
   "codemirror_mode": {
    "name": "ipython",
    "version": 3
   },
   "file_extension": ".py",
   "mimetype": "text/x-python",
   "name": "python",
   "nbconvert_exporter": "python",
   "pygments_lexer": "ipython3",
   "version": "3.11.7"
  }
 },
 "nbformat": 4,
 "nbformat_minor": 5
}
